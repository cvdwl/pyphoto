{
 "cells": [
  {
   "cell_type": "code",
   "execution_count": 3,
   "metadata": {
    "collapsed": false
   },
   "outputs": [],
   "source": [
    "import glob, os, sys, re\n",
    "import hashlib\n",
    "from PIL.ExifTags import TAGS\n",
    "from PIL import Image\n",
    "from datetime import datetime\n",
    "from dateutil import parser\n",
    "from optparse import OptionParser"
   ]
  },
  {
   "cell_type": "code",
   "execution_count": 4,
   "metadata": {
    "collapsed": false
   },
   "outputs": [],
   "source": [
    "rootdir = os.path.abspath(os.path.expanduser('~/Dropbox/Camera Uploads'))\n",
    "\n",
    "# Read all the EXIF tags\n",
    "def get_exif(fn):\n",
    "    ret = {}\n",
    "    i = Image.open(fn)\n",
    "    info = i._getexif()\n",
    "    if info:\n",
    "        for tag, value in info.items():\n",
    "            decoded = TAGS.get(tag, tag)\n",
    "            ret[decoded] = value\n",
    "        return ret\n",
    "    else:\n",
    "        return {}\n",
    "\n",
    "# MD5 of a file\n",
    "fmd5 = lambda f: hashlib.md5(open(f,'rb').read()).hexdigest()"
   ]
  },
  {
   "cell_type": "code",
   "execution_count": 78,
   "metadata": {
    "collapsed": false
   },
   "outputs": [],
   "source": [
    "reDT = re.compile(r'DateTime')\n",
    "# Walk a directory\n",
    "for root, subFolders, fileNames in os.walk(rootdir):\n",
    "    for fileName in fileNames:\n",
    "        m5base=''\n",
    "        FN = os.path.join(root,fileName)\n",
    "        if re.match('.*\\.jpg',fileName):\n",
    "            md5base = hashlib.md5(open(FN,'rb').read()).hexdigest()\n",
    "            exifTags = get_exif(FN)\n",
    "            if exifTags.has_key('DateTime'):\n",
    "                continue\n",
    "            elif exifTags.has_key('DateTimeOriginal'):\n",
    "                continue\n",
    "            elif exifTags.has_key('DateTimeDifitized'):\n",
    "                continue\n",
    "            else:\n",
    "                DTkeys = [ x for x in exifTags.keys() if reDT.match(str(x)) ]\n",
    "                print fileName\n",
    "                print DTkeys\n",
    "                if not DTkeys:\n",
    "                    print exifTags"
   ]
  }
 ],
 "metadata": {
  "kernelspec": {
   "display_name": "Python 2",
   "language": "python",
   "name": "python2"
  },
  "language_info": {
   "codemirror_mode": {
    "name": "ipython",
    "version": 2
   },
   "file_extension": ".py",
   "mimetype": "text/x-python",
   "name": "python",
   "nbconvert_exporter": "python",
   "pygments_lexer": "ipython2",
   "version": "2.7.9"
  }
 },
 "nbformat": 4,
 "nbformat_minor": 0
}
