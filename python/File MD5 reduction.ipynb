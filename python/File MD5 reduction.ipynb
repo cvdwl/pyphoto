{
 "cells": [
  {
   "cell_type": "code",
   "execution_count": 37,
   "metadata": {
    "collapsed": false
   },
   "outputs": [],
   "source": [
    "# Hard coded sorting options, for now\n",
    "rootdir = os.path.abspath(os.path.expanduser('/Storage/Media/TO_SORT'))\n",
    "sortdir = os.path.abspath(os.path.expanduser('/Storage/Media/Pictures/EXIF'))\n",
    "\n",
    "# Hard coded parameters\n",
    "verbose = 5\n",
    "passthrough = True\n",
    "fileNameMask = '^[0-9]{6}-[0-9]{6}[_.][A-Za-z_]{3}([0-9]?)\\.[Jj][Pp][gG]$'"
   ]
  },
  {
   "cell_type": "code",
   "execution_count": 49,
   "metadata": {
    "collapsed": false,
    "scrolled": true
   },
   "outputs": [
    {
     "name": "stdout",
     "output_type": "stream",
     "text": [
      ">/Storage/Media/TO_SORT\n"
     ]
    }
   ],
   "source": [
    "import os, re\n",
    "from FileHandlers import *\n",
    "from EXIFHandlers import *\n",
    "\n",
    "# Walk a directory\n",
    "for root, subFolders, fileNames in os.walk(rootdir):\n",
    "    if verbose:\n",
    "        print '>'+root\n",
    "    # Walk through files in current directory\n",
    "    for fileName in fileNames:\n",
    "        FN = os.path.join(root,fileName)\n",
    "        \n",
    "        # Handle JPGs\n",
    "        if re.match(fileNameMask,fileName) or \\\n",
    "                os.path.splitext(fileName)[1].lower()[1:] in ['jpg','jpeg']:\n",
    "            nFN = getEXIFFileName(FN,sortdir=sortdir)\n",
    "            if nFN:\n",
    "                fileMove(FN,nFN,verbose=verbose,copy=False,clobber=True)\n",
    "            else:\n",
    "                if passthrough:\n",
    "                    filePassThrough(FN,rootdir,sortdir,clobber=True)\n",
    "                elif verbose:\n",
    "                    print FN + ' not sortable'\n",
    "\n",
    "        # Pass through other images\n",
    "        elif passthrough and os.path.splitext(fileName)[1].lower()[1:] in ['nef','gif','png','tif']:\n",
    "            filePassThrough(FN,rootdir,sortdir,copy=False,clobber=True)\n",
    "\n",
    "        elif fileName in ['.DS_Store']:\n",
    "            os.remove(FN)\n",
    "        # Note other files\n",
    "        else:\n",
    "            if verbose:\n",
    "                print fileName+' skipped'\n",
    "\n",
    "    # Get rid of empty low level folders\n",
    "    for subFolder in subFolders:\n",
    "        if not os.listdir(os.path.join(root,subFolder)):\n",
    "            if verbose:\n",
    "                print 'Removing: '+os.path.join(root,subFolder)\n",
    "            os.rmdir(os.path.join(root,subFolder))"
   ]
  },
  {
   "cell_type": "code",
   "execution_count": null,
   "metadata": {
    "collapsed": true
   },
   "outputs": [],
   "source": []
  }
 ],
 "metadata": {
  "kernelspec": {
   "display_name": "Python 2",
   "language": "python",
   "name": "python2"
  },
  "language_info": {
   "codemirror_mode": {
    "name": "ipython",
    "version": 2
   },
   "file_extension": ".py",
   "mimetype": "text/x-python",
   "name": "python",
   "nbconvert_exporter": "python",
   "pygments_lexer": "ipython2",
   "version": "2.7.9"
  }
 },
 "nbformat": 4,
 "nbformat_minor": 0
}
