{
 "cells": [
  {
   "cell_type": "code",
   "execution_count": 73,
   "metadata": {
    "collapsed": false
   },
   "outputs": [],
   "source": [
    "import glob, os, sys, re, shutil\n",
    "import hashlib\n",
    "\n",
    "from PIL.ExifTags import TAGS\n",
    "from PIL import Image\n",
    "\n",
    "from datetime import datetime\n",
    "from dateutil import parser\n",
    "\n",
    "from optparse import OptionParser"
   ]
  },
  {
   "cell_type": "code",
   "execution_count": 137,
   "metadata": {
    "collapsed": true
   },
   "outputs": [],
   "source": [
    "# Read all the EXIF tags\n",
    "def get_exif(fn):\n",
    "    reDT = re.compile(r'DateTime')\n",
    "    DTkeys = ['DateTimeOriginal','DateTimeDigitized''DateTime']\n",
    "    ret = {}\n",
    "    m = ''\n",
    "    t = []\n",
    "    i = Image.open(fn)\n",
    "    info = i._getexif()\n",
    "    if info:\n",
    "        for tag, value in info.items():\n",
    "            decoded = TAGS.get(tag, tag)\n",
    "            ret[decoded] = value\n",
    "            if decoded == 'Model':\n",
    "                m = \"\".join([c for c in value if c.isalpha() or c.isdigit() or c in ',. ']).rstrip()\n",
    "        tk = [k for k in ret if k in DTkeys][0]\n",
    "        if tk:\n",
    "            t = datetime.strptime(ret[tk],'%Y:%m:%d %H:%M:%S')\n",
    "        return ret,t,m\n",
    "\n",
    "# MD5 of a file\n",
    "fmd5 = lambda f: hashlib.md5(open(f,'rb').read()).hexdigest()"
   ]
  },
  {
   "cell_type": "code",
   "execution_count": 136,
   "metadata": {
    "collapsed": false
   },
   "outputs": [],
   "source": [
    "# Make a directory\n",
    "def makeDir(newDir,newDirIsFile=True):\n",
    "    if newDir[0] == os.path.sep:\n",
    "        newDirBld = os.path.sep\n",
    "    else:\n",
    "        newDirBld = ''            \n",
    "    if not newDirIsFile:\n",
    "        newFN = newFN+os.path.sep\n",
    "    for dirPart in os.path.split(\n",
    "                        os.path.abspath(\n",
    "                        os.path.expanduser(newDir)))[0].split(os.path.sep):\n",
    "        newDirBld = os.path.join(newDirBld,dirPart)\n",
    "        if not os.path.isdir(newDirBld):\n",
    "            os.mkdir(newDirBld,0750)\n",
    "        \n",
    "# Move file to a new name and location, creating path as needed\n",
    "def fileMove(oldFN,newFN,copy=True,verbose=True):\n",
    "    duplicateFile = False\n",
    "    fileExt = 0\n",
    "    newFNParts = os.path.splitext(f)\n",
    "    while os.path.isfile(newFN)and not duplicateFile:\n",
    "        if fmd5(oldFN) == fmd5(newFN):\n",
    "            duplicateFile = True\n",
    "        else:\n",
    "            newFN = ('_%03d' % fileExt).join(os.path.splitext(f))\n",
    "            fileExt+=1\n",
    "            \n",
    "    if not duplicateFile:\n",
    "        makeDir(newFN)\n",
    "        if copy:\n",
    "            shutil.copy(oldFN,newFN)\n",
    "        else:\n",
    "            shutil.move(oldFN,newFN)\n",
    "    elif verbose:\n",
    "        print oldFN + ' is the same as' + newFN"
   ]
  },
  {
   "cell_type": "code",
   "execution_count": null,
   "metadata": {
    "collapsed": false
   },
   "outputs": [],
   "source": [
    "rootdir = os.path.abspath(os.path.expanduser('~/Dropbox/Camera Uploads'))\n",
    "if not os.path.isdir(rootdir):\n",
    "    rootdir = os.path.abspath(\n",
    "        os.path.expanduser('/Storage/Media/Pictures/SORTED/'))\n",
    "    sortdir = os.path.abspath(\n",
    "        os.path.expanduser('/Storage/Media/Pictures/NEWSORT'))\n",
    "ownerTAG = 'CVL'\n",
    "\n",
    "reDT = re.compile(r'DateTime')\n",
    "DTkeys = ['DateTimeOriginal','DateTimeDigitized','DateTime']\n",
    "\n",
    "# Walk a directory\n",
    "for root, subFolders, fileNames in os.walk(rootdir):\n",
    "    for fileName in fileNames:\n",
    "        if re.match('.*\\.jpg',fileName):\n",
    "            FN = os.path.join(root,fileName)\n",
    "            md5base = fmd5(FN)\n",
    "            exifTags,t,m = get_exif(FN)\n",
    "            if not t or not m:\n",
    "                #DTkeys = [ x for x in exifTags.keys() if reDT.match(str(x)) ]\n",
    "                print FN + ' not sortable'\n",
    "            else:\n",
    "                nFN = os.path.join(sortdir,m,t.strftime('%Y/%m/%y%m%d-%H%M%S_'+ownerTAG+'.jpg'))\n",
    "                fileMove(FN,nFN,verbose=False)\n"
   ]
  },
  {
   "cell_type": "code",
   "execution_count": 131,
   "metadata": {
    "collapsed": false
   },
   "outputs": [
    {
     "data": {
      "text/plain": [
       "'Canon DIGITAL IXUS 400'"
      ]
     },
     "execution_count": 131,
     "metadata": {},
     "output_type": "execute_result"
    }
   ],
   "source": []
  }
 ],
 "metadata": {
  "kernelspec": {
   "display_name": "Python 2",
   "language": "python",
   "name": "python2"
  },
  "language_info": {
   "codemirror_mode": {
    "name": "ipython",
    "version": 2
   },
   "file_extension": ".py",
   "mimetype": "text/x-python",
   "name": "python",
   "nbconvert_exporter": "python",
   "pygments_lexer": "ipython2",
   "version": "2.7.9"
  }
 },
 "nbformat": 4,
 "nbformat_minor": 0
}
