{
 "cells": [
  {
   "cell_type": "code",
   "execution_count": 6,
   "metadata": {
    "collapsed": true
   },
   "outputs": [],
   "source": [
    "import eyed3\n",
    "import os, re, warnings\n",
    "from FileHandlers import *\n",
    "eyed3.log.setLevel(\"ERROR\")"
   ]
  },
  {
   "cell_type": "code",
   "execution_count": 7,
   "metadata": {
    "collapsed": false
   },
   "outputs": [],
   "source": [
    "def getID3FileName(MP3File,sortdir='.'):\n",
    "    audiofile = eyed3.load(MP3File)\n",
    "    newMP3FileName = []\n",
    "    if audiofile and \\\n",
    "       audiofile.tag and \\\n",
    "       audiofile.tag.genre and \\\n",
    "       audiofile.tag.track_num[0]:\n",
    "        album = audiofile.tag.album\n",
    "        genre = audiofile.tag.genre.name\n",
    "        if not genre or genre.lower in ['default','genre','other']:\n",
    "            genre = 'Unknown'\n",
    "        track = audiofile.tag.track_num[0]\n",
    "        title = audiofile.tag.title\n",
    "        disk = audiofile.tag.disc_num[0]\n",
    "        if audiofile.tag.album_artist:\n",
    "            artist = audiofile.tag.album_artist\n",
    "        else:\n",
    "            artist = audiofile.tag.artist\n",
    "        if disk and track:\n",
    "            track = '%02d-%1d ' % (disk,track)\n",
    "        elif track:\n",
    "            track = '%02d ' % track\n",
    "        if artist and album and track and title:\n",
    "            newMP3FileName = os.path.join(sortdir,\n",
    "                                          artist,\n",
    "                                          genre,\n",
    "                                          album.replace(os.sep,' - '),\n",
    "                                          track + title.replace(os.sep,' - ') + '.mp3')\n",
    "    return newMP3FileName"
   ]
  },
  {
   "cell_type": "code",
   "execution_count": 29,
   "metadata": {
    "collapsed": false
   },
   "outputs": [],
   "source": [
    "rootdir = '/mnt/data1/cvl/Media/Music'\n",
    "#rootdir = '/Storage/Media/TO_SORT'\n",
    "sortdir = '/Storage/Media/Music/SORTED'\n",
    "passthrough = True\n",
    "verbose = False\n",
    "\n",
    "# Walk a directory\n",
    "for root, subFolders, fileNames in os.walk(rootdir):\n",
    "    for fileName in fileNames:\n",
    "        FN = os.path.join(root,fileName)\n",
    "        # Handle JPGs\n",
    "        if os.path.splitext(fileName)[1].lower()[1:] in ['mp3']:\n",
    "            nFN = getID3FileName(FN,sortdir=sortdir)\n",
    "            if nFN:\n",
    "                fileMove(FN,nFN,verbose=verbose,copy=False,clobber=True)\n",
    "            else:\n",
    "                if passthrough:\n",
    "                    filePassThrough(FN,rootdir,sortdir,copy=False,clobber=True)\n",
    "                    #print FN + ' passed'\n",
    "                elif verbose:\n",
    "                    print FN + ' not sortable'\n",
    "        elif fileName in ['.DS_Store']:\n",
    "            os.remove(FN)\n",
    "        else:\n",
    "            filePassThrough(FN,rootdir,sortdir,copy=False,clobber=True)\n",
    "            if verbose:\n",
    "                print fileName+' passed'\n",
    "\n",
    "    # Get rid of empty low level folders\n",
    "    for subFolder in subFolders:\n",
    "        if not os.listdir(os.path.join(root,subFolder)):\n",
    "            if verbose:\n",
    "                print 'Removing: '+os.path.join(root,subFolder)\n",
    "            os.rmdir(os.path.join(root,subFolder))"
   ]
  },
  {
   "cell_type": "code",
   "execution_count": 22,
   "metadata": {
    "collapsed": false
   },
   "outputs": [
    {
     "name": "stdout",
     "output_type": "stream",
     "text": [
      "/mnt/data1/cvl/Media/Music/MUSIC.ORIG/iTunes/Cuba/El son es lo m�s sublime\n"
     ]
    },
    {
     "ename": "OSError",
     "evalue": "[Errno 22] Invalid argument: '/mnt/data1/cvl/Media/Music/MUSIC.ORIG/iTunes/Cuba/El son es lo m\\xa0s sublime'",
     "output_type": "error",
     "traceback": [
      "\u001b[1;31m---------------------------------------------------------------------------\u001b[0m",
      "\u001b[1;31mOSError\u001b[0m                                   Traceback (most recent call last)",
      "\u001b[1;32m<ipython-input-22-bd30ea68978c>\u001b[0m in \u001b[0;36m<module>\u001b[1;34m()\u001b[0m\n\u001b[0;32m     15\u001b[0m         \u001b[0mfileMove\u001b[0m\u001b[1;33m(\u001b[0m\u001b[0mFN\u001b[0m\u001b[1;33m,\u001b[0m\u001b[0mnFN\u001b[0m\u001b[1;33m,\u001b[0m\u001b[0mverbose\u001b[0m\u001b[1;33m=\u001b[0m\u001b[0mverbose\u001b[0m\u001b[1;33m,\u001b[0m\u001b[0mcopy\u001b[0m\u001b[1;33m=\u001b[0m\u001b[0mFalse\u001b[0m\u001b[1;33m,\u001b[0m\u001b[0mclobber\u001b[0m\u001b[1;33m=\u001b[0m\u001b[0mTrue\u001b[0m\u001b[1;33m)\u001b[0m\u001b[1;33m\u001b[0m\u001b[0m\n\u001b[0;32m     16\u001b[0m \u001b[1;32mexcept\u001b[0m\u001b[1;33m:\u001b[0m\u001b[1;33m\u001b[0m\u001b[0m\n\u001b[1;32m---> 17\u001b[1;33m     \u001b[0mos\u001b[0m\u001b[1;33m.\u001b[0m\u001b[0mremove\u001b[0m\u001b[1;33m(\u001b[0m\u001b[0mFN\u001b[0m\u001b[1;33m)\u001b[0m\u001b[1;33m\u001b[0m\u001b[0m\n\u001b[0m\u001b[0;32m     18\u001b[0m     \u001b[0mFN\u001b[0m\u001b[1;33m=\u001b[0m\u001b[1;33m[\u001b[0m\u001b[1;33m]\u001b[0m\u001b[1;33m\u001b[0m\u001b[0m\n",
      "\u001b[1;31mOSError\u001b[0m: [Errno 22] Invalid argument: '/mnt/data1/cvl/Media/Music/MUSIC.ORIG/iTunes/Cuba/El son es lo m\\xa0s sublime'"
     ]
    }
   ],
   "source": [
    "print FN\n",
    "audiofile=[]\n",
    "try:\n",
    "    audiofile = eyed3.load(FN)\n",
    "    print audiofile.tag.album\n",
    "    print audiofile.tag.genre.name\n",
    "    print audiofile.tag.track_num[0]\n",
    "    print audiofile.tag.title\n",
    "    print audiofile.tag.disc_num[0]\n",
    "    print audiofile.tag.album_artist\n",
    "    print audiofile.tag.artist\n",
    "    nFN = getID3FileName(FN,sortdir=sortdir)\n",
    "    print nFN\n",
    "    if nFN:\n",
    "        fileMove(FN,nFN,verbose=verbose,copy=False,clobber=True)\n",
    "except:\n",
    "    os.remove(FN)\n",
    "    FN=[]"
   ]
  },
  {
   "cell_type": "code",
   "execution_count": null,
   "metadata": {
    "collapsed": true
   },
   "outputs": [],
   "source": []
  }
 ],
 "metadata": {
  "kernelspec": {
   "display_name": "Python 2",
   "language": "python",
   "name": "python2"
  },
  "language_info": {
   "codemirror_mode": {
    "name": "ipython",
    "version": 2
   },
   "file_extension": ".py",
   "mimetype": "text/x-python",
   "name": "python",
   "nbconvert_exporter": "python",
   "pygments_lexer": "ipython2",
   "version": "2.7.9"
  }
 },
 "nbformat": 4,
 "nbformat_minor": 0
}
